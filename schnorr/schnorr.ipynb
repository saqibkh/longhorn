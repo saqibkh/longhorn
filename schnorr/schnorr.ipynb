{
 "cells": [
  {
   "cell_type": "code",
   "execution_count": 2,
   "metadata": {},
   "outputs": [],
   "source": [
    "###### PLEASE RUN THIS CELL FIRST! ###################\n",
    "\n",
    "# import everything and define a test runner function\n",
    "from importlib import reload\n",
    "from schnorr import schnorr, BN, Mu\n",
    "from helper import double_sha256\n",
    "from helper import little_endian_to_int\n",
    "from ecc import PrivateKey\n",
    "\n",
    "\n",
    "from random import randint\n",
    "\n",
    "##################################################################################################\n",
    "# Test Schnorr's Signature\n",
    "msg = b'This is a test message'\n",
    "\n",
    "passphrase = b'saqibkhan'\n",
    "secret = little_endian_to_int(double_sha256(passphrase))\n",
    "private_key = PrivateKey(secret=secret)\n",
    "addr = private_key.point.address(testnet=True)\n",
    "#print(addr)\n",
    "\n",
    "S = schnorr(secret)\n",
    "R,s = S.sign(msg)\n",
    "\n",
    "\n",
    "#print(R.sec())\n",
    "assert(S.verify(R,s,msg))\n",
    "##################################################################################################\n",
    "\n",
    "\n",
    "##################################################################################################\n",
    "# Test BN\n",
    "Private_Keys = [b'pk0', b'pk1b', b'pk2', b'pk3']\n",
    "\n",
    "bn = BN(Private_Keys)\n",
    "R,s = bn.sign(msg)\n",
    "assert(bn.verify(R,s,msg))\n",
    "##################################################################################################\n",
    "\n",
    "\n",
    "##################################################################################################\n",
    "# Test MultiSig\n",
    "Private_Keys = [b'pk0', b'pk1b', b'pk2', b'pk3']\n",
    "\n",
    "mu = Mu(Private_Keys)\n",
    "R,s,P = mu.sign(msg)\n",
    "assert(mu.verify(R,s,msg,P))\n",
    "##################################################################################################\n",
    "\n",
    "\n",
    "\n",
    "\n"
   ]
  },
  {
   "cell_type": "code",
   "execution_count": null,
   "metadata": {},
   "outputs": [],
   "source": []
  },
  {
   "cell_type": "code",
   "execution_count": null,
   "metadata": {},
   "outputs": [],
   "source": []
  },
  {
   "cell_type": "code",
   "execution_count": null,
   "metadata": {},
   "outputs": [],
   "source": []
  }
 ],
 "metadata": {
  "kernelspec": {
   "display_name": "Python 3",
   "language": "python",
   "name": "python3"
  },
  "language_info": {
   "codemirror_mode": {
    "name": "ipython",
    "version": 3
   },
   "file_extension": ".py",
   "mimetype": "text/x-python",
   "name": "python",
   "nbconvert_exporter": "python",
   "pygments_lexer": "ipython3",
   "version": "3.5.2"
  }
 },
 "nbformat": 4,
 "nbformat_minor": 2
}
