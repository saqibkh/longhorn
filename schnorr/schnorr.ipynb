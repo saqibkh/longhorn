{
 "cells": [
  {
   "cell_type": "code",
   "execution_count": 4,
   "metadata": {},
   "outputs": [
    {
     "name": "stdout",
     "output_type": "stream",
     "text": [
      "n2QFqqMrkrC6DbG3syErgsoZ6uz3a8S9VP\n",
      "b'\\x03\\x99\\xed{@\\xa5\\xa9uzz\\xc8jx-Q\\tQaR\\xfb\\xd8\\xc3n\\x89^\\x89\\xad\\x93S\\xe8\\xab\\x05S'\n"
     ]
    }
   ],
   "source": [
    "###### PLEASE RUN THIS CELL FIRST! ###################\n",
    "\n",
    "# import everything and define a test runner function\n",
    "from importlib import reload\n",
    "from schnorr import schnorr\n",
    "from helper import hash256\n",
    "from helper import little_endian_to_int\n",
    "from ecc import PrivateKey\n",
    "\n",
    "\n",
    "# Test Schnorr's Signature\n",
    "msg = b'This is a test message'\n",
    "\n",
    "passphrase = b'saqibkhan'\n",
    "secret = little_endian_to_int(hash256(passphrase))\n",
    "private_key = PrivateKey(secret=secret)\n",
    "addr = private_key.point.address(testnet=True)\n",
    "print(addr)\n",
    "\n",
    "S = schnorr(secret)\n",
    "R,s = S.sign(msg)\n",
    "\n",
    "\n",
    "print(R.sec())\n",
    "#print(S.verify(R,s,msg))"
   ]
  },
  {
   "cell_type": "code",
   "execution_count": null,
   "metadata": {},
   "outputs": [],
   "source": []
  },
  {
   "cell_type": "code",
   "execution_count": null,
   "metadata": {},
   "outputs": [],
   "source": []
  }
 ],
 "metadata": {
  "kernelspec": {
   "display_name": "Python 3",
   "language": "python",
   "name": "python3"
  },
  "language_info": {
   "codemirror_mode": {
    "name": "ipython",
    "version": 3
   },
   "file_extension": ".py",
   "mimetype": "text/x-python",
   "name": "python",
   "nbconvert_exporter": "python",
   "pygments_lexer": "ipython3",
   "version": "3.5.2"
  }
 },
 "nbformat": 4,
 "nbformat_minor": 2
}
